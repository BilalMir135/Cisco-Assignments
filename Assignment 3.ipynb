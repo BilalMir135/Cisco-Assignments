{
 "cells": [
  {
   "cell_type": "markdown",
   "metadata": {},
   "source": [
    "### Make a calculator using Python with addition , subtraction , multiplication , division and power."
   ]
  },
  {
   "cell_type": "code",
   "execution_count": 1,
   "metadata": {},
   "outputs": [
    {
     "name": "stdout",
     "output_type": "stream",
     "text": [
      "Enter the first num = 10\n",
      "Enter the second num = 20\n",
      "Enter the operation you want to perform = *\n",
      "200\n"
     ]
    }
   ],
   "source": [
    "def calculation(a,b,operator):\n",
    "    if(operator=='-'):\n",
    "        print(a-b)\n",
    "    elif operator=='+':\n",
    "        print(a+b)\n",
    "    elif operator=='/':\n",
    "        print(a/b)\n",
    "    elif operator=='*':\n",
    "        print(a*b)\n",
    "\n",
    "a=int(input(\"Enter the first num = \"))\n",
    "b=int(input(\"Enter the second num = \"))\n",
    "operator=input(\"Enter the operation you want to perform = \")\n",
    "calculation(a,b,operator)"
   ]
  },
  {
   "cell_type": "markdown",
   "metadata": {},
   "source": [
    "### Write a program to check if there is any numeric value in list using for loop"
   ]
  },
  {
   "cell_type": "code",
   "execution_count": 4,
   "metadata": {},
   "outputs": [
    {
     "name": "stdout",
     "output_type": "stream",
     "text": [
      "10 is found at 2 index\n",
      "25.5 is found at 4 index\n"
     ]
    }
   ],
   "source": [
    "_list = ['Hello','World',10,'Hi',25.5]\n",
    "for x in _list:\n",
    "    if (type(x) == int or type(x) == float):\n",
    "        print(f'{x} is found at {_list.index(x)} index')"
   ]
  },
  {
   "cell_type": "markdown",
   "metadata": {},
   "source": [
    "### Write a Python script to add a key to a dictionary"
   ]
  },
  {
   "cell_type": "code",
   "execution_count": 5,
   "metadata": {},
   "outputs": [
    {
     "data": {
      "text/plain": [
       "{'fname': 'Bilal', 'lname': 'Mir', 'Age': 20}"
      ]
     },
     "execution_count": 5,
     "metadata": {},
     "output_type": "execute_result"
    }
   ],
   "source": [
    "dic = {'fname': 'Bilal', 'lname': 'Mir'}\n",
    "dic['Age'] = 20\n",
    "dic"
   ]
  },
  {
   "cell_type": "markdown",
   "metadata": {},
   "source": [
    "### Write a Python program to sum all the numeric items in a dictionary"
   ]
  },
  {
   "cell_type": "code",
   "execution_count": 8,
   "metadata": {},
   "outputs": [
    {
     "name": "stdout",
     "output_type": "stream",
     "text": [
      "60\n"
     ]
    }
   ],
   "source": [
    "dic = {'num1':10,'num2':20, 'num3':30}\n",
    "_sum=0\n",
    "for x in dic:\n",
    "    _sum += dict2[x]\n",
    "print(_sum)"
   ]
  },
  {
   "cell_type": "markdown",
   "metadata": {},
   "source": [
    "### Write a program to identify duplicate values from list"
   ]
  },
  {
   "cell_type": "code",
   "execution_count": 9,
   "metadata": {},
   "outputs": [
    {
     "name": "stdout",
     "output_type": "stream",
     "text": [
      "[10, 20, 50]\n"
     ]
    }
   ],
   "source": [
    "def Repeat(x):  \n",
    "    repeated = [] \n",
    "    for i in range(len(x)): \n",
    "        for j in range(i+1,len(x)): \n",
    "            if x[i] == x[j] and x[i] not in repeated: \n",
    "                repeated.append(x[i]) \n",
    "    return repeated \n",
    "\n",
    "_list = [10,20,30,10,50,20,40,50] \n",
    "print (Repeat(_list)) "
   ]
  },
  {
   "cell_type": "markdown",
   "metadata": {},
   "source": [
    "### Write a Python script to check if a given key already exists in a dictionary"
   ]
  },
  {
   "cell_type": "code",
   "execution_count": 10,
   "metadata": {},
   "outputs": [
    {
     "name": "stdout",
     "output_type": "stream",
     "text": [
      "Enter key: name\n",
      "New Key\n"
     ]
    }
   ],
   "source": [
    "key = input('Enter key: ')\n",
    "if key in dic.keys():\n",
    "    print('Key already exist')\n",
    "else:\n",
    "    print('New Key')"
   ]
  },
  {
   "cell_type": "code",
   "execution_count": 11,
   "metadata": {},
   "outputs": [
    {
     "name": "stdout",
     "output_type": "stream",
     "text": [
      "Enter key: num1\n",
      "Key already exist\n"
     ]
    }
   ],
   "source": [
    "key = input('Enter key: ')\n",
    "if key in dic.keys():\n",
    "    print('Key already exist')\n",
    "else:\n",
    "    print('New Key')"
   ]
  },
  {
   "cell_type": "code",
   "execution_count": null,
   "metadata": {},
   "outputs": [],
   "source": []
  }
 ],
 "metadata": {
  "kernelspec": {
   "display_name": "Python 3",
   "language": "python",
   "name": "python3"
  },
  "language_info": {
   "codemirror_mode": {
    "name": "ipython",
    "version": 3
   },
   "file_extension": ".py",
   "mimetype": "text/x-python",
   "name": "python",
   "nbconvert_exporter": "python",
   "pygments_lexer": "ipython3",
   "version": "3.7.3"
  }
 },
 "nbformat": 4,
 "nbformat_minor": 2
}
