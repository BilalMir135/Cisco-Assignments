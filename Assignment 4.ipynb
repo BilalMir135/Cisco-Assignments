{
 "cells": [
  {
   "cell_type": "markdown",
   "metadata": {},
   "source": [
    "Use a dictionary to store information about a person you know. Store their first name, last name, age,\n",
    "and the city in which they live. You should have keys such as first_name, last_name, age, and city. Print\n",
    "each piece of information stored in your dictionary. Add a new key value pair about qualification then\n",
    "update the qualification value to high academic level then delete it."
   ]
  },
  {
   "cell_type": "code",
   "execution_count": 1,
   "metadata": {},
   "outputs": [
    {
     "name": "stdout",
     "output_type": "stream",
     "text": [
      "First Name = Bilal\n",
      "Last Name = Mir\n",
      "Age = 21\n",
      "City = Karachi\n",
      "Enter your qualification = High Academic level\n",
      "\n",
      "\t\t Updated\n",
      "First Name = Bilal\n",
      "Last Name = Mir\n",
      "Age = 21\n",
      "City = Karachi\n",
      "Qualification = High Academic level\n"
     ]
    }
   ],
   "source": [
    "def print_dic():\n",
    "    for k,v in person.items():\n",
    "        print(f\"{k.title()} = {v}\")\n",
    "        \n",
    "person = {\n",
    "    'first name' : 'Bilal',\n",
    "    'last name' : 'Mir',\n",
    "    'age': 21,\n",
    "    'city': 'Karachi'\n",
    "}\n",
    "print_dic()\n",
    "person['Qualification'] = input('Enter your qualification = ')\n",
    "print('\\n\\t\\t Updated') \n",
    "print_dic()\n",
    "del person['Qualification']"
   ]
  },
  {
   "cell_type": "markdown",
   "metadata": {},
   "source": [
    "Make a dictionary called cities. Use the names of three cities as keys in your dictionary. Create a\n",
    "dictionary of information about each city and include the country that the city is in, its approximate\n",
    "population, and one fact about that city. The keys for each city’s dictionary should be something like\n",
    "country, population, and fact. Print the name of each city and all of the information you have stored\n",
    "about it."
   ]
  },
  {
   "cell_type": "code",
   "execution_count": 11,
   "metadata": {},
   "outputs": [
    {
     "name": "stdout",
     "output_type": "stream",
     "text": [
      "City = Karachi\n",
      "Country = Pakistan\n",
      "Approximate Popuplation = 14.91 million \n",
      "Fact = Karachi is the economic capital of Pakistan\n",
      "City = Istanbul\n",
      "Country = Turkey\n",
      "Approximate Popuplation = 15.07 million\n",
      "Fact = Istanbul is a major city in Turkey that straddles Europe and Asia across the Bosphorus Strait.\n",
      "City = Alexandria\n",
      "Country = Egypt\n",
      "Approximate Popuplation = 5.2 million\n",
      "Fact = This city was founded around a small, ancient Egyptian town in 332 BC by Alexander the Great.\n"
     ]
    }
   ],
   "source": [
    "cities = {\n",
    "    'Karachi':{\n",
    "        'Country':'Pakistan',\n",
    "        'Approximate Popuplation':'14.91 million ',\n",
    "        'Fact':'Karachi is the economic capital of Pakistan'\n",
    "    },\n",
    "    'Istanbul':{\n",
    "        'Country':'Turkey',\n",
    "        'Approximate Popuplation':'15.07 million',\n",
    "        'Fact':'Istanbul is a major city in Turkey that straddles Europe and Asia across the Bosphorus Strait.'\n",
    "    },\n",
    "    'Alexandria':{\n",
    "        'Country':'Egypt',\n",
    "        'Approximate Popuplation':'5.2 million',\n",
    "        'Fact':'This city was founded around a small, ancient Egyptian town in 332 BC by Alexander the Great.'\n",
    "    }\n",
    "}\n",
    "\n",
    "for k,v in cities.items():\n",
    "    print(f'City = {k}')\n",
    "    for x in v:\n",
    "        print(f'{x} = {cities[k][x]}')"
   ]
  },
  {
   "cell_type": "markdown",
   "metadata": {},
   "source": [
    "A movie theater charges different ticket prices depending on a person’s age. If a person is under the age\n",
    "of 3, the ticket is free; if they are between 3 and 12, the ticket is $10; and if they are over age 12, the\n",
    "ticket is $15. Write a loop in which you ask users their age, and then tell them the cost of their movie\n",
    "ticket."
   ]
  },
  {
   "cell_type": "code",
   "execution_count": 1,
   "metadata": {},
   "outputs": [
    {
     "name": "stdout",
     "output_type": "stream",
     "text": [
      "Enter your age = 2\n",
      "The ticket is free\n",
      "Do you want to buy ticket (y/n) = y\n",
      "Enter your age = 10\n",
      "The ticket price is 10$\n",
      "Do you want to buy ticket (y/n) = y\n",
      "Enter your age = 15\n",
      "The ticket price is 15$\n",
      "Do you want to buy ticket (y/n) = n\n"
     ]
    }
   ],
   "source": [
    "buy_ticket = 'y'\n",
    "while buy_ticket != 'n':\n",
    "    age = int(input('Enter your age = '))\n",
    "    if(age < 3):\n",
    "        print(\"The ticket is free\")\n",
    "    elif(age > 3 and age < 12):\n",
    "        print(\"The ticket price is 10$\")\n",
    "    else:\n",
    "        print(\"The ticket price is 15$\")\n",
    "    buy_ticket = input(\"Do you want to buy ticket (y/n) = \")"
   ]
  },
  {
   "cell_type": "markdown",
   "metadata": {},
   "source": [
    "Write a function called favorite_book() that accepts one parameter, title. The function should print a\n",
    "message, such as One of my favorite books is Alice in Wonderland. Call the function, making sure to\n",
    "include a book title as an argument in the function call."
   ]
  },
  {
   "cell_type": "code",
   "execution_count": 2,
   "metadata": {},
   "outputs": [
    {
     "name": "stdout",
     "output_type": "stream",
     "text": [
      "One of my favourite book is The fall of the Ottomans\n"
     ]
    }
   ],
   "source": [
    "def favourite_book(title):\n",
    "    print(f'One of my favourite book is {title}')\n",
    "    \n",
    "favourite_book('The fall of the Ottomans')"
   ]
  },
  {
   "cell_type": "markdown",
   "metadata": {},
   "source": [
    "Guess the number game\n",
    "Write a program which randomly generate a number between 1 to 30 and ask the user in input field to\n",
    "guess the correct number. Give three chances to user guess the number and also give hint to user if\n",
    "hidden number is greater or smaller than the number he given to input field."
   ]
  },
  {
   "cell_type": "code",
   "execution_count": 3,
   "metadata": {},
   "outputs": [
    {
     "name": "stdout",
     "output_type": "stream",
     "text": [
      "Enter your guessed Number : 2\n",
      "You have 2 chances left\n",
      "\n",
      "*****You have guessed a lesser number*****\n",
      "\n",
      "Enter your guessed Number : 8\n",
      "You have 1 chances left\n",
      "\n",
      "*****You have guessed a lesser number*****\n",
      "\n",
      "Enter your guessed Number : 56\n",
      "You have 0 chances left\n",
      "\n",
      "*****You have guessed a greater number*****\n",
      "\n"
     ]
    }
   ],
   "source": [
    "import random\n",
    "chances = 3\n",
    "random_num = int(random.randint(1,30))\n",
    "while chances != 0:\n",
    "    guess = int(input('Enter your guessed Number : '))\n",
    "    chances -= 1\n",
    "    print(f\"You have {chances} chances left\\n\")   \n",
    "    if guess > random_num:\n",
    "        print('*****You have guessed a greater number*****\\n')\n",
    "    elif guess < random_num:\n",
    "        print('*****You have guessed a lesser number*****\\n')\n",
    "    else:\n",
    "        print('*****You have guessed the right number*****\\n')"
   ]
  },
  {
   "cell_type": "code",
   "execution_count": null,
   "metadata": {},
   "outputs": [],
   "source": [
    " "
   ]
  }
 ],
 "metadata": {
  "kernelspec": {
   "display_name": "Python 3",
   "language": "python",
   "name": "python3"
  },
  "language_info": {
   "codemirror_mode": {
    "name": "ipython",
    "version": 3
   },
   "file_extension": ".py",
   "mimetype": "text/x-python",
   "name": "python",
   "nbconvert_exporter": "python",
   "pygments_lexer": "ipython3",
   "version": "3.7.3"
  }
 },
 "nbformat": 4,
 "nbformat_minor": 2
}
